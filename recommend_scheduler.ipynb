{
 "cells": [
  {
   "cell_type": "code",
   "execution_count": null,
   "metadata": {},
   "outputs": [],
   "source": [
    "# 1시간 단위로 뉴스 추천\n",
    "\n",
    "\n",
    "import os\n",
    "import schedule\n",
    "import time\n",
    "\n",
    "# 이전에 실행한 노트북 파일 경로\n",
    "notebook_path = 'your_notebook.py'\n",
    "\n",
    "def run_jupyter_notebook():\n",
    "    # 주피터 노트북 실행 명령어\n",
    "    command = f'jupyter nbconvert --to notebook --execute {notebook_path}'\n",
    "    \n",
    "    # 주피터 노트북 실행\n",
    "    os.system(command)\n",
    "\n",
    "def job():\n",
    "    print(\"주피터 노트북을 실행합니다.\")\n",
    "    run_jupyter_notebook()\n",
    "    print(\"주피터 노트북 실행이 완료되었습니다.\")\n",
    "\n",
    "# 매 시간마다 주피터 노트북 실행하도록 스케줄링\n",
    "schedule.every().hour.do(job)\n",
    "\n",
    "# 스케줄러 시작#\n",
    "while True:\n",
    "    schedule.run_pending()\n",
    "    time.sleep(300)\n"
   ]
  },
  {
   "cell_type": "code",
   "execution_count": null,
   "metadata": {},
   "outputs": [],
   "source": [
    "# 지정된 시간에 뉴스 추천\n",
    "\n",
    "import os\n",
    "import schedule\n",
    "import time\n",
    "from datetime import datetime\n",
    "\n",
    "# 이전에 실행한 노트북 파일 경로\n",
    "notebook_path = 'your_notebook.py'\n",
    "\n",
    "def run_jupyter_notebook():\n",
    "    # 주피터 노트북 실행 명령어\n",
    "    command = f'jupyter nbconvert --to notebook --execute {notebook_path}'\n",
    "    \n",
    "    # 주피터 노트북 실행\n",
    "    os.system(command)\n",
    "\n",
    "def job():\n",
    "    print(f\"{datetime.now()} 에 주피터 노트북을 실행합니다.\")\n",
    "    run_jupyter_notebook()\n",
    "    print(\"주피터 노트북 실행이 완료되었습니다.\")\n",
    "\n",
    "# 매일 오전 9시, 오후 6시에 주피터 노트북 실행하도록 스케줄링\n",
    "schedule.every().day.at(\"09:00\").do(job)\n",
    "schedule.every().day.at(\"18:00\").do(job)\n",
    "\n",
    "# 스케줄러 시작\n",
    "while True:\n",
    "    schedule.run_pending()\n",
    "    time.sleep(300)"
   ]
  },
  {
   "cell_type": "code",
   "execution_count": null,
   "metadata": {},
   "outputs": [],
   "source": []
  },
  {
   "cell_type": "code",
   "execution_count": null,
   "metadata": {},
   "outputs": [],
   "source": [
    "# 30분 단위로 뉴스 크롤링\n",
    "\n"
   ]
  }
 ],
 "metadata": {
  "kernelspec": {
   "display_name": "cnews",
   "language": "python",
   "name": "python3"
  },
  "language_info": {
   "name": "python",
   "version": "3.10.11"
  }
 },
 "nbformat": 4,
 "nbformat_minor": 2
}
